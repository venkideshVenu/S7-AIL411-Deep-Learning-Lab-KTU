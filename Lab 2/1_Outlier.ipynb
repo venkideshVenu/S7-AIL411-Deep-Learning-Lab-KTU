{
 "cells": [
  {
   "cell_type": "code",
   "execution_count": 3,
   "id": "a8dee2f8-85a5-4c33-b98c-becfbf3c9518",
   "metadata": {},
   "outputs": [
    {
     "name": "stdout",
     "output_type": "stream",
     "text": [
      "Mean           :  30.076923076923077\n",
      "Median         :  15\n",
      "Mode           :  15\n",
      "Varience       :  1913.076923076923\n",
      "Std Deviation  :  43.73873481339993\n",
      "               with Outlier          without Outlier\n",
      "Mean           :  30.08 \t\t 30.08\n",
      "Median         :  15 \t\t\t 15\n",
      "Mode           :  15 \t\t\t 15\n",
      "Variance       :  1913.08 \t\t 1913.08\n",
      "Std deviation  :  43.74 \t\t\t 43.74\n",
      "Outliers from IQR method:  [101, 150]\n",
      "10 % 7.4  \n",
      " 90% 85.00000000000006 \n",
      "New array: [15.  85.  85.  18.   7.4 13.  16.  11.  21.   7.4 15.  10.   9. ]\n"
     ]
    }
   ],
   "source": [
    "import statistics as st\n",
    "import numpy as np\n",
    "import pandas as pd\n",
    "import matplotlib.pyplot as plt\n",
    "import seaborn as sns\n",
    "\n",
    "data = [15, 101,150, 18, 7, 13, 16, 11, 21, 5, 15, 10, 9]\n",
    "\n",
    "print('Mean           : ' ,st.mean(data))\n",
    "print('Median         : ', st.median(data))\n",
    "print('Mode           : ', st.mode(data))\n",
    "print('Varience       : ', st.variance(data))\n",
    "print('Std Deviation  : ', st.stdev(data))\n",
    "\n",
    "# removing outliers using z_score\n",
    "outliers = []\n",
    "def detect_outliers_zscore(data):\n",
    "    thres = 3\n",
    "    mean = np.mean(data)\n",
    "    std = np.std(data)\n",
    "    for i in data:\n",
    "        z_score = (i-mean) / std\n",
    "        if np.abs(z_score) > thres:\n",
    "            outliers.append(i)\n",
    "    return outliers\n",
    "\n",
    "\n",
    "out = detect_outliers_zscore(data)\n",
    "NewData = [i for i in data if i not in out]\n",
    "\n",
    "\n",
    "print(\"               with Outlier          without Outlier\")\n",
    "print(\"Mean           : \", round(st.mean(data),2), \"\\t\\t\", round(st.mean(NewData),2))\n",
    "print('Median         : ', round(st.median(data),2), \"\\t\\t\\t\", round(st.median(NewData),2))\n",
    "print('Mode           : ', round(st.mode(data),2), \"\\t\\t\\t\", round(st.mode(NewData),2))\n",
    "print('Variance       : ', round(st.variance(data),2), \"\\t\\t\", round(st.variance(NewData),2))\n",
    "print('Std deviation  : ' , round(st.stdev(data),2), \"\\t\\t\\t\", round(st.stdev(NewData),2))\n",
    "\n",
    "# Using IQR\n",
    "outliers = []\n",
    "\n",
    "def detect_outliers_iqr(data):\n",
    "    data = sorted(data)\n",
    "    q1 = np.percentile(data, 25)\n",
    "    q3 = np.percentile(data, 75)\n",
    "    IQR = q3 - q1\n",
    "    lwr_bound = q1 - (1.5 * IQR)\n",
    "    upr_bound = q3 + (1.5 * IQR)\n",
    "    for i in data:\n",
    "        if i < lwr_bound or i > upr_bound:\n",
    "            outliers.append(i)\n",
    "    return outliers\n",
    "\n",
    "\n",
    "sample_outliers = detect_outliers_iqr(data)\n",
    "print(\"Outliers from IQR method: \", sample_outliers)\n",
    "\n",
    "tenth_percentile = np.percentile(data, 10)\n",
    "ninetieth_percentile = np.percentile(data, 90)\n",
    "\n",
    "\n",
    "b = np.where(data < tenth_percentile, tenth_percentile, data)\n",
    "b = np.where(b > ninetieth_percentile, ninetieth_percentile, b)\n",
    "print(\"10 %\", tenth_percentile, \" \\n 90%\", ninetieth_percentile, \"\\nNew array:\", b)\n",
    "\n"
   ]
  },
  {
   "cell_type": "code",
   "execution_count": null,
   "id": "66c2844f-f520-4db5-b136-03f46931c849",
   "metadata": {},
   "outputs": [],
   "source": []
  },
  {
   "cell_type": "code",
   "execution_count": 6,
   "id": "42be97fb-0537-4ffe-b719-7dca703a870e",
   "metadata": {},
   "outputs": [],
   "source": []
  },
  {
   "cell_type": "code",
   "execution_count": null,
   "id": "9342ea20-1825-45c0-8967-87fa2c25d818",
   "metadata": {},
   "outputs": [],
   "source": []
  },
  {
   "cell_type": "code",
   "execution_count": null,
   "id": "e0f80ab5-cb23-47be-8476-78852d7f6f98",
   "metadata": {},
   "outputs": [],
   "source": []
  },
  {
   "cell_type": "code",
   "execution_count": null,
   "id": "93178304-bcd9-46d8-8521-165256372df4",
   "metadata": {},
   "outputs": [],
   "source": []
  },
  {
   "cell_type": "code",
   "execution_count": null,
   "id": "60de64ac-4efd-4148-be53-af14206357d5",
   "metadata": {},
   "outputs": [],
   "source": []
  }
 ],
 "metadata": {
  "kernelspec": {
   "display_name": "Python 3 (ipykernel)",
   "language": "python",
   "name": "python3"
  },
  "language_info": {
   "codemirror_mode": {
    "name": "ipython",
    "version": 3
   },
   "file_extension": ".py",
   "mimetype": "text/x-python",
   "name": "python",
   "nbconvert_exporter": "python",
   "pygments_lexer": "ipython3",
   "version": "3.10.12"
  }
 },
 "nbformat": 4,
 "nbformat_minor": 5
}
