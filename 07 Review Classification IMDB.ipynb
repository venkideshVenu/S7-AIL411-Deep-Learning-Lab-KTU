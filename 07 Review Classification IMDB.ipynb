{
  "cells": [
    {
      "cell_type": "markdown",
      "id": "4e26df65-0c61-431e-8a02-d9f46a282f81",
      "metadata": {
        "id": "4e26df65-0c61-431e-8a02-d9f46a282f81"
      },
      "source": [
        "# Experiment : 07\n",
        "##  Implement a simple RNN for review classification using IMDB dataset."
      ]
    },
    {
      "cell_type": "code",
      "execution_count": null,
      "id": "4b95662d-4f78-44b7-94f7-7dfd6405156a",
      "metadata": {
        "colab": {
          "base_uri": "https://localhost:8080/",
          "height": 902
        },
        "id": "4b95662d-4f78-44b7-94f7-7dfd6405156a",
        "outputId": "59ad1dc2-e0d4-44d6-98eb-0cfe5638c3e5"
      },
      "outputs": [
        {
          "name": "stdout",
          "output_type": "stream",
          "text": [
            "25000 train sequences\n",
            "25000 test sequences\n",
            "Train data shape: (25000, 500)\n",
            "Test data shape: (25000, 500)\n"
          ]
        },
        {
          "data": {
            "text/html": [
              "<pre style=\"white-space:pre;overflow-x:auto;line-height:normal;font-family:Menlo,'DejaVu Sans Mono',consolas,'Courier New',monospace\"><span style=\"font-weight: bold\">Model: \"sequential_1\"</span>\n",
              "</pre>\n"
            ],
            "text/plain": [
              "\u001b[1mModel: \"sequential_1\"\u001b[0m\n"
            ]
          },
          "metadata": {},
          "output_type": "display_data"
        },
        {
          "data": {
            "text/html": [
              "<pre style=\"white-space:pre;overflow-x:auto;line-height:normal;font-family:Menlo,'DejaVu Sans Mono',consolas,'Courier New',monospace\">┏━━━━━━━━━━━━━━━━━━━━━━━━━━━━━━━━━┳━━━━━━━━━━━━━━━━━━━━━━━━┳━━━━━━━━━━━━━━━┓\n",
              "┃<span style=\"font-weight: bold\"> Layer (type)                    </span>┃<span style=\"font-weight: bold\"> Output Shape           </span>┃<span style=\"font-weight: bold\">       Param # </span>┃\n",
              "┡━━━━━━━━━━━━━━━━━━━━━━━━━━━━━━━━━╇━━━━━━━━━━━━━━━━━━━━━━━━╇━━━━━━━━━━━━━━━┩\n",
              "│ embedding_1 (<span style=\"color: #0087ff; text-decoration-color: #0087ff\">Embedding</span>)         │ (<span style=\"color: #00d7ff; text-decoration-color: #00d7ff\">None</span>, <span style=\"color: #00af00; text-decoration-color: #00af00\">500</span>, <span style=\"color: #00af00; text-decoration-color: #00af00\">32</span>)        │       <span style=\"color: #00af00; text-decoration-color: #00af00\">160,000</span> │\n",
              "├─────────────────────────────────┼────────────────────────┼───────────────┤\n",
              "│ simple_rnn_1 (<span style=\"color: #0087ff; text-decoration-color: #0087ff\">SimpleRNN</span>)        │ (<span style=\"color: #00d7ff; text-decoration-color: #00d7ff\">None</span>, <span style=\"color: #00af00; text-decoration-color: #00af00\">100</span>)            │        <span style=\"color: #00af00; text-decoration-color: #00af00\">13,300</span> │\n",
              "├─────────────────────────────────┼────────────────────────┼───────────────┤\n",
              "│ dense_1 (<span style=\"color: #0087ff; text-decoration-color: #0087ff\">Dense</span>)                 │ (<span style=\"color: #00d7ff; text-decoration-color: #00d7ff\">None</span>, <span style=\"color: #00af00; text-decoration-color: #00af00\">1</span>)              │           <span style=\"color: #00af00; text-decoration-color: #00af00\">101</span> │\n",
              "└─────────────────────────────────┴────────────────────────┴───────────────┘\n",
              "</pre>\n"
            ],
            "text/plain": [
              "┏━━━━━━━━━━━━━━━━━━━━━━━━━━━━━━━━━┳━━━━━━━━━━━━━━━━━━━━━━━━┳━━━━━━━━━━━━━━━┓\n",
              "┃\u001b[1m \u001b[0m\u001b[1mLayer (type)                   \u001b[0m\u001b[1m \u001b[0m┃\u001b[1m \u001b[0m\u001b[1mOutput Shape          \u001b[0m\u001b[1m \u001b[0m┃\u001b[1m \u001b[0m\u001b[1m      Param #\u001b[0m\u001b[1m \u001b[0m┃\n",
              "┡━━━━━━━━━━━━━━━━━━━━━━━━━━━━━━━━━╇━━━━━━━━━━━━━━━━━━━━━━━━╇━━━━━━━━━━━━━━━┩\n",
              "│ embedding_1 (\u001b[38;5;33mEmbedding\u001b[0m)         │ (\u001b[38;5;45mNone\u001b[0m, \u001b[38;5;34m500\u001b[0m, \u001b[38;5;34m32\u001b[0m)        │       \u001b[38;5;34m160,000\u001b[0m │\n",
              "├─────────────────────────────────┼────────────────────────┼───────────────┤\n",
              "│ simple_rnn_1 (\u001b[38;5;33mSimpleRNN\u001b[0m)        │ (\u001b[38;5;45mNone\u001b[0m, \u001b[38;5;34m100\u001b[0m)            │        \u001b[38;5;34m13,300\u001b[0m │\n",
              "├─────────────────────────────────┼────────────────────────┼───────────────┤\n",
              "│ dense_1 (\u001b[38;5;33mDense\u001b[0m)                 │ (\u001b[38;5;45mNone\u001b[0m, \u001b[38;5;34m1\u001b[0m)              │           \u001b[38;5;34m101\u001b[0m │\n",
              "└─────────────────────────────────┴────────────────────────┴───────────────┘\n"
            ]
          },
          "metadata": {},
          "output_type": "display_data"
        },
        {
          "data": {
            "text/html": [
              "<pre style=\"white-space:pre;overflow-x:auto;line-height:normal;font-family:Menlo,'DejaVu Sans Mono',consolas,'Courier New',monospace\"><span style=\"font-weight: bold\"> Total params: </span><span style=\"color: #00af00; text-decoration-color: #00af00\">173,401</span> (677.35 KB)\n",
              "</pre>\n"
            ],
            "text/plain": [
              "\u001b[1m Total params: \u001b[0m\u001b[38;5;34m173,401\u001b[0m (677.35 KB)\n"
            ]
          },
          "metadata": {},
          "output_type": "display_data"
        },
        {
          "data": {
            "text/html": [
              "<pre style=\"white-space:pre;overflow-x:auto;line-height:normal;font-family:Menlo,'DejaVu Sans Mono',consolas,'Courier New',monospace\"><span style=\"font-weight: bold\"> Trainable params: </span><span style=\"color: #00af00; text-decoration-color: #00af00\">173,401</span> (677.35 KB)\n",
              "</pre>\n"
            ],
            "text/plain": [
              "\u001b[1m Trainable params: \u001b[0m\u001b[38;5;34m173,401\u001b[0m (677.35 KB)\n"
            ]
          },
          "metadata": {},
          "output_type": "display_data"
        },
        {
          "data": {
            "text/html": [
              "<pre style=\"white-space:pre;overflow-x:auto;line-height:normal;font-family:Menlo,'DejaVu Sans Mono',consolas,'Courier New',monospace\"><span style=\"font-weight: bold\"> Non-trainable params: </span><span style=\"color: #00af00; text-decoration-color: #00af00\">0</span> (0.00 B)\n",
              "</pre>\n"
            ],
            "text/plain": [
              "\u001b[1m Non-trainable params: \u001b[0m\u001b[38;5;34m0\u001b[0m (0.00 B)\n"
            ]
          },
          "metadata": {},
          "output_type": "display_data"
        },
        {
          "name": "stdout",
          "output_type": "stream",
          "text": [
            "Epoch 1/15\n",
            "\u001b[1m313/313\u001b[0m \u001b[32m━━━━━━━━━━━━━━━━━━━━\u001b[0m\u001b[37m\u001b[0m \u001b[1m18s\u001b[0m 45ms/step - accuracy: 0.5082 - loss: 0.6961 - val_accuracy: 0.5922 - val_loss: 0.6727\n",
            "Epoch 2/15\n",
            "\u001b[1m313/313\u001b[0m \u001b[32m━━━━━━━━━━━━━━━━━━━━\u001b[0m\u001b[37m\u001b[0m \u001b[1m17s\u001b[0m 38ms/step - accuracy: 0.6452 - loss: 0.6445 - val_accuracy: 0.6452 - val_loss: 0.6218\n",
            "Epoch 3/15\n",
            "\u001b[1m313/313\u001b[0m \u001b[32m━━━━━━━━━━━━━━━━━━━━\u001b[0m\u001b[37m\u001b[0m \u001b[1m12s\u001b[0m 40ms/step - accuracy: 0.7368 - loss: 0.5203 - val_accuracy: 0.6912 - val_loss: 0.6227\n",
            "Epoch 4/15\n",
            "\u001b[1m313/313\u001b[0m \u001b[32m━━━━━━━━━━━━━━━━━━━━\u001b[0m\u001b[37m\u001b[0m \u001b[1m21s\u001b[0m 40ms/step - accuracy: 0.7250 - loss: 0.5373 - val_accuracy: 0.6492 - val_loss: 0.6193\n",
            "Epoch 5/15\n",
            "\u001b[1m313/313\u001b[0m \u001b[32m━━━━━━━━━━━━━━━━━━━━\u001b[0m\u001b[37m\u001b[0m \u001b[1m20s\u001b[0m 39ms/step - accuracy: 0.7588 - loss: 0.4929 - val_accuracy: 0.7224 - val_loss: 0.5690\n",
            "Epoch 6/15\n",
            "\u001b[1m313/313\u001b[0m \u001b[32m━━━━━━━━━━━━━━━━━━━━\u001b[0m\u001b[37m\u001b[0m \u001b[1m20s\u001b[0m 39ms/step - accuracy: 0.8077 - loss: 0.4279 - val_accuracy: 0.7466 - val_loss: 0.5833\n",
            "Epoch 7/15\n",
            "\u001b[1m313/313\u001b[0m \u001b[32m━━━━━━━━━━━━━━━━━━━━\u001b[0m\u001b[37m\u001b[0m \u001b[1m20s\u001b[0m 39ms/step - accuracy: 0.8373 - loss: 0.3777 - val_accuracy: 0.7384 - val_loss: 0.6258\n",
            "Epoch 8/15\n",
            "\u001b[1m313/313\u001b[0m \u001b[32m━━━━━━━━━━━━━━━━━━━━\u001b[0m\u001b[37m\u001b[0m \u001b[1m21s\u001b[0m 40ms/step - accuracy: 0.8258 - loss: 0.3871 - val_accuracy: 0.7340 - val_loss: 0.6016\n",
            "Epoch 9/15\n",
            "\u001b[1m313/313\u001b[0m \u001b[32m━━━━━━━━━━━━━━━━━━━━\u001b[0m\u001b[37m\u001b[0m \u001b[1m20s\u001b[0m 39ms/step - accuracy: 0.7309 - loss: 0.5115 - val_accuracy: 0.6084 - val_loss: 0.6772\n",
            "Epoch 10/15\n",
            "\u001b[1m313/313\u001b[0m \u001b[32m━━━━━━━━━━━━━━━━━━━━\u001b[0m\u001b[37m\u001b[0m \u001b[1m21s\u001b[0m 40ms/step - accuracy: 0.6725 - loss: 0.5813 - val_accuracy: 0.6178 - val_loss: 0.6580\n",
            "Epoch 11/15\n",
            "\u001b[1m313/313\u001b[0m \u001b[32m━━━━━━━━━━━━━━━━━━━━\u001b[0m\u001b[37m\u001b[0m \u001b[1m21s\u001b[0m 40ms/step - accuracy: 0.7080 - loss: 0.5376 - val_accuracy: 0.6394 - val_loss: 0.6603\n",
            "Epoch 12/15\n",
            "\u001b[1m313/313\u001b[0m \u001b[32m━━━━━━━━━━━━━━━━━━━━\u001b[0m\u001b[37m\u001b[0m \u001b[1m12s\u001b[0m 38ms/step - accuracy: 0.7427 - loss: 0.4920 - val_accuracy: 0.6650 - val_loss: 0.6818\n",
            "Epoch 13/15\n",
            "\u001b[1m313/313\u001b[0m \u001b[32m━━━━━━━━━━━━━━━━━━━━\u001b[0m\u001b[37m\u001b[0m \u001b[1m12s\u001b[0m 39ms/step - accuracy: 0.8009 - loss: 0.4227 - val_accuracy: 0.7094 - val_loss: 0.6462\n",
            "Epoch 14/15\n",
            "\u001b[1m313/313\u001b[0m \u001b[32m━━━━━━━━━━━━━━━━━━━━\u001b[0m\u001b[37m\u001b[0m \u001b[1m12s\u001b[0m 38ms/step - accuracy: 0.8511 - loss: 0.3447 - val_accuracy: 0.7278 - val_loss: 0.6086\n",
            "Epoch 15/15\n",
            "\u001b[1m313/313\u001b[0m \u001b[32m━━━━━━━━━━━━━━━━━━━━\u001b[0m\u001b[37m\u001b[0m \u001b[1m21s\u001b[0m 39ms/step - accuracy: 0.8797 - loss: 0.3008 - val_accuracy: 0.7238 - val_loss: 0.6231\n",
            "\u001b[1m782/782\u001b[0m \u001b[32m━━━━━━━━━━━━━━━━━━━━\u001b[0m\u001b[37m\u001b[0m \u001b[1m8s\u001b[0m 10ms/step - accuracy: 0.7293 - loss: 0.6142\n",
            "Test accuracy: 73.42\n",
            "\u001b[1m1/1\u001b[0m \u001b[32m━━━━━━━━━━━━━━━━━━━━\u001b[0m\u001b[37m\u001b[0m \u001b[1m1s\u001b[0m 586ms/step\n",
            "Negative Review\n",
            "Actual Label: Negative\n"
          ]
        }
      ],
      "source": [
        "# ----------------------------- Import Libraries -----------------------------\n",
        "import numpy as np\n",
        "from keras.datasets import imdb\n",
        "from keras import layers, models\n",
        "from keras.preprocessing import sequence\n",
        "\n",
        "# ----------------------------- Set Hyperparameters -----------------------------\n",
        "max_features = 5000         # Vocabulary size\n",
        "max_words = 500             # Max sequence length after padding\n",
        "\n",
        "# ----------------------------- Load and Preprocess the Dataset -----------------------------\n",
        "(xtr, ytr), (xte, yte) = imdb.load_data(num_words=max_features)\n",
        "print(f'{len(xtr)} train sequences\\n{len(xte)} test sequences')\n",
        "\n",
        "# ----------------------------- Pad Sequences -----------------------------\n",
        "xtr = sequence.pad_sequences(xtr, maxlen=max_words)\n",
        "xte = sequence.pad_sequences(xte, maxlen=max_words)\n",
        "print('Train data shape:', xtr.shape)\n",
        "print('Test data shape:', xte.shape)\n",
        "\n",
        "# ----------------------------- Build the Model -----------------------------\n",
        "model = models.Sequential([\n",
        "    layers.Embedding(5000, 32, input_length=500),\n",
        "    layers.SimpleRNN(100),\n",
        "    layers.Dense(1, activation='sigmoid')\n",
        "])\n",
        "model.summary()\n",
        "\n",
        "# ----------------------------- Compile the Model -----------------------------\n",
        "model.compile(optimizer='adam',\n",
        "              loss='binary_crossentropy',\n",
        "              metrics=['accuracy'])\n",
        "\n",
        "# ----------------------------- Train the Model -----------------------------\n",
        "history = model.fit(xtr, ytr,\n",
        "                    epochs=15,\n",
        "                    batch_size=64,\n",
        "                    validation_split=0.2)\n",
        "\n",
        "# ----------------------------- Evaluate the Model -----------------------------\n",
        "loss, acc = model.evaluate(xte, yte)\n",
        "print(\"Test accuracy:\", round(acc*100, 4))\n",
        "\n",
        "# ----------------------------- Prediction Example -----------------------------\n",
        "test_seq = np.reshape(xte[7], (1, -1)) \n",
        "pred = model.predict(test_seq)[0][0]        # Prediction value\n",
        "\n",
        "if pred >= 0.5:\n",
        "    print(\"Positive Review\")\n",
        "else:\n",
        "    print(\"Negative Review\")\n",
        "\n",
        "print(\"Actual Label:\", \"Positive\" if yte[7] == 1 else \"Negative\")\n"
      ]
    }
  ],
  "metadata": {
    "accelerator": "GPU",
    "colab": {
      "gpuType": "T4",
      "provenance": []
    },
    "kernelspec": {
      "display_name": "Python 3",
      "name": "python3"
    },
    "language_info": {
      "codemirror_mode": {
        "name": "ipython",
        "version": 3
      },
      "file_extension": ".py",
      "mimetype": "text/x-python",
      "name": "python",
      "nbconvert_exporter": "python",
      "pygments_lexer": "ipython3",
      "version": "3.13.7"
    }
  },
  "nbformat": 4,
  "nbformat_minor": 5
}
