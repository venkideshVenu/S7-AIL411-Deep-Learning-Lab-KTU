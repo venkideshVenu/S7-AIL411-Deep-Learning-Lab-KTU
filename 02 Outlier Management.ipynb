{
 "cells": [
  {
   "cell_type": "markdown",
   "id": "ed951d1b-016c-472d-ba0d-40e097c87d5e",
   "metadata": {},
   "source": [
    "# 2. Data pre-processing operations such as outliers and/or inconsistent data value management"
   ]
  },
  {
   "cell_type": "code",
   "execution_count": 8,
   "id": "58efebdc-64d8-4dec-913b-516753e3dfe9",
   "metadata": {},
   "outputs": [
    {
     "name": "stdout",
     "output_type": "stream",
     "text": [
      "Mean           :  20.083333333333332\n",
      "Median         :  14.0\n",
      "Mode           :  15\n",
      "Varience       :  670.6287878787879\n",
      "Std Deviation  :  25.896501460212495\n"
     ]
    }
   ],
   "source": [
    "# Importing required libraries\n",
    "import statistics as st            # For calculating statistical measures like mean, median, etc.\n",
    "import numpy as np                 # For numerical computations\n",
    "import pandas as pd                # (Not used here, but often useful for handling tabular data)\n",
    "import matplotlib.pyplot as plt    # For plotting (not used in this code but imported)\n",
    "import seaborn as sns              # For visualizations (not used in this code but imported)\n",
    "\n",
    "# Sample dataset\n",
    "data = [15, 101, 18, 7, 13, 16, 11, 21, 5, 15, 10, 9]\n",
    "\n",
    "# Printing basic statistical metrics\n",
    "print('Mean           : ' , st.mean(data))          # Average value\n",
    "print('Median         : ', st.median(data))         # Middle value\n",
    "print('Mode           : ', st.mode(data))           # Most frequent value\n",
    "print('Varience       : ', st.variance(data))       # Measure of data spread (square of std dev)\n",
    "print('Std Deviation  : ', st.stdev(data))          # Standard deviation\n"
   ]
  },
  {
   "cell_type": "markdown",
   "id": "756532ef-add6-45ea-99d3-fc1a809939e0",
   "metadata": {},
   "source": [
    "## Removing outliers using Z-Score method"
   ]
  },
  {
   "cell_type": "code",
   "execution_count": 9,
   "id": "6938ff79-dcc9-4f4a-ab76-b976716bc30d",
   "metadata": {},
   "outputs": [
    {
     "name": "stdout",
     "output_type": "stream",
     "text": [
      "               with Outlier          without Outlier\n",
      "Mean           :  20.08 \t\t 12.73\n",
      "Median         :  14.0 \t\t\t 13\n",
      "Mode           :  15 \t\t\t 15\n",
      "Variance       :  670.63 \t\t 23.42\n",
      "Std deviation  :  25.9 \t\t\t 4.84\n"
     ]
    }
   ],
   "source": [
    "# --- Removing outliers using Z-Score method ---\n",
    "\n",
    "# Initialize a list to collect outliers\n",
    "outliers = []\n",
    "\n",
    "# Function to detect outliers using Z-score method\n",
    "def detect_outliers_zscore(data):\n",
    "    thres = 3                              # Z-score threshold\n",
    "    mean = np.mean(data)                  # Mean of the data\n",
    "    std = np.std(data)                    # Standard deviation\n",
    "    for i in data:\n",
    "        z_score = (i - mean) / std        # Calculate Z-score\n",
    "        if np.abs(z_score) > thres:       # If Z-score exceeds threshold, consider it an outlier\n",
    "            outliers.append(i)\n",
    "    return outliers\n",
    "\n",
    "# Detect and remove outliers\n",
    "out = detect_outliers_zscore(data)\n",
    "NewData = [i for i in data if i not in out]  # Create new list excluding outliers\n",
    "\n",
    "# Compare statistics before and after outlier removal\n",
    "print(\"               with Outlier          without Outlier\")\n",
    "print(\"Mean           : \", round(st.mean(data),2), \"\\t\\t\", round(st.mean(NewData),2))\n",
    "print('Median         : ', round(st.median(data),2), \"\\t\\t\\t\", round(st.median(NewData),2))\n",
    "print('Mode           : ', round(st.mode(data),2), \"\\t\\t\\t\", round(st.mode(NewData),2))\n",
    "print('Variance       : ', round(st.variance(data),2), \"\\t\\t\", round(st.variance(NewData),2))\n",
    "print('Std deviation  : ', round(st.stdev(data),2), \"\\t\\t\\t\", round(st.stdev(NewData),2))"
   ]
  },
  {
   "cell_type": "markdown",
   "id": "a2ac4979-82d6-4458-9d10-9dadb8db33d1",
   "metadata": {},
   "source": [
    "##  Removing outliers using IQR method"
   ]
  },
  {
   "cell_type": "code",
   "execution_count": 11,
   "id": "fab703f0-0340-4dea-8b1d-366b06aaf07a",
   "metadata": {},
   "outputs": [
    {
     "name": "stdout",
     "output_type": "stream",
     "text": [
      "Outliers from IQR method:  [101]\n"
     ]
    }
   ],
   "source": [
    "# --- Removing outliers using IQR method ---\n",
    "\n",
    "# Reset outliers list\n",
    "outliers = []\n",
    "\n",
    "# Function to detect outliers using IQR (Interquartile Range) method\n",
    "def detect_outliers_iqr(data):\n",
    "    data = sorted(data)                          # Sort the data\n",
    "    q1 = np.percentile(data, 25)                 # First quartile (25th percentile)\n",
    "    q3 = np.percentile(data, 75)                 # Third quartile (75th percentile)\n",
    "    IQR = q3 - q1                                # Interquartile range\n",
    "    lwr_bound = q1 - (1.5 * IQR)                 # Lower bound for outlier detection\n",
    "    upr_bound = q3 + (1.5 * IQR)                 # Upper bound for outlier detection\n",
    "    for i in data:\n",
    "        if i < lwr_bound or i > upr_bound:       # Values outside bounds are outliers\n",
    "            outliers.append(i)\n",
    "    return outliers\n",
    "\n",
    "# Detect outliers using IQR method\n",
    "sample_outliers = detect_outliers_iqr(data)\n",
    "print(\"Outliers from IQR method: \", sample_outliers)\n"
   ]
  },
  {
   "cell_type": "code",
   "execution_count": 10,
   "id": "f168b09c-e750-4ab7-ab1b-be5071cec8c6",
   "metadata": {},
   "outputs": [
    {
     "name": "stdout",
     "output_type": "stream",
     "text": [
      "10 % 7.2  \n",
      "90 % 20.700000000000003 \n",
      "New array: [15.  20.7 18.   7.2 13.  16.  11.  20.7  7.2 15.  10.   9. ]\n"
     ]
    }
   ],
   "source": [
    "# --- Percentile Capping (also called Winsorization) ---\n",
    "\n",
    "# Calculate 10th and 90th percentiles\n",
    "tenth_percentile = np.percentile(data, 10)\n",
    "ninetieth_percentile = np.percentile(data, 90)\n",
    "\n",
    "# Cap the values below 10th percentile to 10th, and above 90th to 90th percentile\n",
    "b = np.where(data < tenth_percentile, tenth_percentile, data)\n",
    "b = np.where(b > ninetieth_percentile, ninetieth_percentile, b)\n",
    "\n",
    "# Print capped data\n",
    "print(\"10 %\", tenth_percentile, \" \\n90 %\", ninetieth_percentile, \"\\nNew array:\", b)\n"
   ]
  },
  {
   "cell_type": "code",
   "execution_count": null,
   "id": "6216f133-592f-4407-866f-7cc8b99f8356",
   "metadata": {},
   "outputs": [],
   "source": []
  },
  {
   "cell_type": "code",
   "execution_count": null,
   "id": "95a7e44a-d60f-4c15-8502-6da4674cd928",
   "metadata": {},
   "outputs": [],
   "source": []
  }
 ],
 "metadata": {
  "kernelspec": {
   "display_name": "Python 3 (ipykernel)",
   "language": "python",
   "name": "python3"
  },
  "language_info": {
   "codemirror_mode": {
    "name": "ipython",
    "version": 3
   },
   "file_extension": ".py",
   "mimetype": "text/x-python",
   "name": "python",
   "nbconvert_exporter": "python",
   "pygments_lexer": "ipython3",
   "version": "3.12.5"
  }
 },
 "nbformat": 4,
 "nbformat_minor": 5
}
